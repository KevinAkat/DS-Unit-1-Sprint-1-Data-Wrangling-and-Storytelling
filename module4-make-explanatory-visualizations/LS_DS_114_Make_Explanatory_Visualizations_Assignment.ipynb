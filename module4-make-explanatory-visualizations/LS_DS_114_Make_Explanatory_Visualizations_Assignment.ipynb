{
  "nbformat": 4,
  "nbformat_minor": 0,
  "metadata": {
    "colab": {
      "name": "LS_DS_114_Make_Explanatory_Visualizations_Assignment.ipynb",
      "provenance": [],
      "collapsed_sections": [],
      "include_colab_link": true
    },
    "language_info": {
      "codemirror_mode": {
        "name": "ipython",
        "version": 3
      },
      "file_extension": ".py",
      "mimetype": "text/x-python",
      "name": "python",
      "nbconvert_exporter": "python",
      "pygments_lexer": "ipython3",
      "version": "3.7.1"
    },
    "kernelspec": {
      "display_name": "Python 3",
      "language": "python",
      "name": "python3"
    }
  },
  "cells": [
    {
      "cell_type": "markdown",
      "metadata": {
        "id": "view-in-github",
        "colab_type": "text"
      },
      "source": [
        "<a href=\"https://colab.research.google.com/github/KevinAkat/DS-Unit-1-Sprint-1-Data-Wrangling-and-Storytelling/blob/master/module4-make-explanatory-visualizations/LS_DS_114_Make_Explanatory_Visualizations_Assignment.ipynb\" target=\"_parent\"><img src=\"https://colab.research.google.com/assets/colab-badge.svg\" alt=\"Open In Colab\"/></a>"
      ]
    },
    {
      "cell_type": "markdown",
      "metadata": {
        "colab_type": "text",
        "id": "NMEswXWh9mqw"
      },
      "source": [
        "Lambda School Data Science\n",
        "\n",
        "*Unit 1, Sprint 1, Module 4*\n",
        "\n",
        "---\n",
        "\n",
        "# ASSIGNMENT\n",
        "\n",
        "### 1) Replicate the lesson code. I recommend that you [do not copy-paste](https://docs.google.com/document/d/1ubOw9B3Hfip27hF2ZFnW3a3z9xAgrUDRReOEo-FHCVs/edit).\n",
        "\n",
        "Get caught up to where we got our example in class and then try and take things further. How close to \"pixel perfect\" can you make the lecture graph?\n",
        "\n",
        "Once you have something that you're proud of, share your graph in the cohort channel and move on to the second exercise.\n",
        "\n",
        "### 2) Reproduce another example from [FiveThityEight's shared data repository](https://data.fivethirtyeight.com/).\n",
        "\n",
        "**WARNING**: There are a lot of very custom graphs and tables at the above link. I **highly** recommend not trying to reproduce any that look like a table of values or something really different from the graph types that we are already familiar with. Search through the posts until you find a graph type that you are more or less familiar with: histogram, bar chart, stacked bar chart, line chart, [seaborn relplot](https://seaborn.pydata.org/generated/seaborn.relplot.html), etc. Recreating some of the graphics that 538 uses would be a lot easier in Adobe photoshop/illustrator than with matplotlib. \n",
        "\n",
        "- If you put in some time to find a graph that looks \"easy\" to replicate you'll probably find that it's not as easy as you thought. \n",
        "\n",
        "- If you start with a graph that looks hard to replicate you'll probably run up against a brick wall and be disappointed with your afternoon.\n",
        "\n",
        "\n",
        "\n",
        "\n",
        "\n",
        "\n",
        "\n",
        "\n",
        "\n",
        "\n"
      ]
    },
    {
      "cell_type": "code",
      "metadata": {
        "id": "q-w33Q9L2nPp",
        "colab_type": "code",
        "outputId": "23931f49-cb41-4992-cd13-5317d39c5487",
        "colab": {
          "base_uri": "https://localhost:8080/",
          "height": 356
        }
      },
      "source": [
        "from IPython.display import display, Image\n",
        "\n",
        "url = 'https://fivethirtyeight.com/wp-content/uploads/2017/09/mehtahickey-inconvenient-0830-1.png'\n",
        "example = Image(url=url, width=400)\n",
        "\n",
        "display(example)\n",
        "\n",
        "fake = pd.Series([38, 3, 2, 1, 2, 4, 6, 5, 5, 33], \n",
        "                 index=range(1,11))\n"
      ],
      "execution_count": 0,
      "outputs": [
        {
          "output_type": "display_data",
          "data": {
            "text/html": [
              "<img src=\"https://fivethirtyeight.com/wp-content/uploads/2017/09/mehtahickey-inconvenient-0830-1.png\" width=\"400\"/>"
            ],
            "text/plain": [
              "<IPython.core.display.Image object>"
            ]
          },
          "metadata": {
            "tags": []
          }
        }
      ]
    },
    {
      "cell_type": "code",
      "metadata": {
        "id": "7SY1ZHawyZvz",
        "colab_type": "code",
        "outputId": "2aa9c442-a815-4889-ed48-0faaa9e6f581",
        "colab": {
          "base_uri": "https://localhost:8080/",
          "height": 537
        }
      },
      "source": [
        "plt.style.use('fivethirtyeight')\n",
        "\n",
        "fig, ax = plt.subplots()\n",
        "\n",
        "\n",
        "# ax.grid(linestyle=\"solid\", linewidth=0.25, color='.25', zorder=0)\n",
        "\n",
        "# Set Title\n",
        "ax.set_title(\"'An Inconvenient Sequel: Truth to Power' is divisive\",x=.35, y=1.1, fontsize=12, \n",
        "             fontweight='bold')\n",
        "\n",
        "# Set Subtitle\n",
        "\n",
        "ax.text(s='IMDB ratings for the film as of Aug. 29', x=-1.1, y=43, fontsize=10)\n",
        "\n",
        "#Add bars\n",
        "\n",
        "ax.bar(height=fake, x=range(1,11,1), color='#ED713A', width=0.9)\n",
        "\n",
        "# Set X Ticks \n",
        "ax.set_xticks(range(1,11,1))\n",
        "#ax.sset_xticks([1,2,3,4,5,6,7,8,9,10])\n",
        "\n",
        "# Set Y Ticks\n",
        "\n",
        "ax.set_yticks(range(0,50,10))\n",
        "\n",
        "# Set ytick labels\n",
        "\n",
        "ax.set_yticklabels(['0','10','20','30','40%'], color='#b7b5b5',fontsize=9, weight='roman')\n",
        "\n",
        "ax.set_xticklabels(['1','2','3','4','5','6','7','8','9','10'], color='#b7b5b5',fontsize=9, weight='roman')\n",
        "\n",
        "# Set X Label\n",
        "\n",
        "ax.set_xlabel('Rating', color='black', fontsize=9, fontweight='bold')\n",
        "\n",
        "# Set Y Label\n",
        "ax.set_ylabel('Percent of total votes', color='black',fontsize=9, fontweight='bold')\n",
        "\n",
        "# Set Figure Background Color\n",
        "\n",
        "fig.set_facecolor(color='None')\n",
        "\n",
        "# Set Axes Background Color\n",
        "\n",
        "ax.set_facecolor(color='None')\n",
        "\n",
        "# Turn off the spine\n",
        "\n",
        "ax.spines['left'].set_visible(False)\n",
        "ax.spines['right'].set_visible(False)\n",
        "ax.spines['top'].set_visible(False)\n",
        "\n",
        "# Setting tick paramter colors\n",
        "# ax.tick_params(axis='both', grid_linewidth=2.0)\n",
        "\n",
        "# Adjusting Gridlines\n",
        "\n",
        "# ax.grid(fillstyle='left')\n",
        "\n",
        "ax.tick_params(axis='x', direction='out', length=10, width=.5, colors='gray')\n",
        "\n",
        "plt.xlim(0.35, 10.6)\n",
        "\n",
        "\n",
        "\n",
        "plt.show()\n"
      ],
      "execution_count": 0,
      "outputs": [
        {
          "output_type": "display_data",
          "data": {
            "image/png": "[encoded data removed]",
            "text/plain": [
              "<Figure size 640x480 with 1 Axes>"
            ]
          },
          "metadata": {
            "tags": [],
            "needs_background": "dark"
          }
        }
      ]
    },
    {
      "cell_type": "markdown",
      "metadata": {
        "id": "8CvfEgo-Ewo-",
        "colab_type": "text"
      },
      "source": [
        "# I am only trying to replicate the bottom half of this table (The horizontal\n",
        "# bar chart) for this assignment"
      ]
    },
    {
      "cell_type": "code",
      "metadata": {
        "id": "wGVEwJg237Kf",
        "colab_type": "code",
        "outputId": "ccbfe7d7-c67b-43f4-826e-f733be47be63",
        "colab": {
          "base_uri": "https://localhost:8080/",
          "height": 988
        }
      },
      "source": [
        "# Only trying to recreate the bottom bar chart\n",
        "\n",
        "from IPython.display import display, Image\n",
        "\n",
        "url = 'https://fivethirtyeight.com/wp-content/uploads/2017/08/roeder-uschess-1.png?w=2048'\n",
        "example2 = Image(url=url, width=800)\n",
        "\n",
        "display(example2)"
      ],
      "execution_count": 0,
      "outputs": [
        {
          "output_type": "display_data",
          "data": {
            "text/html": [
              "<img src=\"https://fivethirtyeight.com/wp-content/uploads/2017/08/roeder-uschess-1.png?w=2048\" width=\"800\"/>"
            ],
            "text/plain": [
              "<IPython.core.display.Image object>"
            ]
          },
          "metadata": {
            "tags": []
          }
        }
      ]
    },
    {
      "cell_type": "code",
      "metadata": {
        "id": "2q1dysjA3zDZ",
        "colab_type": "code",
        "outputId": "68373063-46f9-42b3-9d8b-384cb90b2a72",
        "colab": {
          "base_uri": "https://localhost:8080/",
          "height": 498
        }
      },
      "source": [
        "import matplotlib.pyplot as plt\n",
        "import numpy as np\n",
        "\n",
        "plt.style.use('fivethirtyeight')\n",
        "\n",
        "\n",
        "plt.rcdefaults()\n",
        "fig, ax = plt.subplots()\n",
        "\n",
        "# Setting up the data \n",
        "\n",
        "# color = f95cca\n",
        "country = ('India','Armenia','Cuba','Russia','Ukraine','Philippines','Georgia','Azerbaijan','Belarus','Colombia')\n",
        "y_pos = np.arange(len(country))\n",
        "number_of_transfers = (11,8,7,7,7,6,4,3,3,2)\n",
        "\n",
        "# Title\n",
        "ax.set_title('Countries with highest number of transfers to the U.S.',x=.25, y=1.2, fontsize=9, fontweight='bold')\n",
        "\n",
        "# Making the horizontal bar graph\n",
        "\n",
        "ax.barh(y_pos, number_of_transfers, align='center', color='#f95cca', zorder=10, height=0.7)\n",
        "\n",
        "# Y-axis\n",
        "ax.invert_yaxis() \n",
        "ax.set_yticks(y_pos)\n",
        "ax.set_yticklabels(country)\n",
        "\n",
        "# X-axis\n",
        "ax.set_xlabel('Number of Transfers', fontsize=8, fontweight='bold')\n",
        "ax.set_xticks(range(0,14,2))\n",
        "ax.set_xticklabels(['0','2','4','6','8','10','12'], color='#b7b5b5', fontsize=8)\n",
        "ax.xaxis.set_label_position('top')\n",
        "ax.xaxis.tick_top()\n",
        "\n",
        "# Turning the spines off. \n",
        "\n",
        "ax.spines['left'].set_visible(False)\n",
        "ax.spines['right'].set_visible(False)\n",
        "ax.spines['top'].set_visible(False)\n",
        "# ax.spines['bottom'].set_visible(False)\n",
        "\n",
        "# Setting the girdlines\n",
        "\n",
        "ax.grid(which='major', axis='x', linestyle='solid', zorder=0, color='#b7b5b5')\n",
        "\n",
        "\n",
        "plt.show()"
      ],
      "execution_count": 0,
      "outputs": [
        {
          "output_type": "display_data",
          "data": {
            "image/png": "[encoded data removed]",
            "text/plain": [
              "<Figure size 640x480 with 1 Axes>"
            ]
          },
          "metadata": {
            "tags": []
          }
        }
      ]
    },
    {
      "cell_type": "code",
      "metadata": {
        "id": "h9q9dPgK37IS",
        "colab_type": "code",
        "colab": {}
      },
      "source": [
        ""
      ],
      "execution_count": 0,
      "outputs": []
    },
    {
      "cell_type": "markdown",
      "metadata": {
        "id": "0wSrBzmJyWaV",
        "colab_type": "text"
      },
      "source": [
        "# STRETCH OPTIONS\n",
        "\n",
        "### 1) Reproduce one of the following using the matplotlib or seaborn libraries:\n",
        "\n",
        "- [thanksgiving-2015](https://fivethirtyeight.com/features/heres-what-your-part-of-america-eats-on-thanksgiving/) \n",
        "- [candy-power-ranking](https://fivethirtyeight.com/features/the-ultimate-halloween-candy-power-ranking/) \n",
        "- or another example of your choice!\n",
        "\n",
        "### 2) Make more charts!\n",
        "\n",
        "Choose a chart you want to make, from [Visual Vocabulary - Vega Edition](http://ft.com/vocabulary).\n",
        "\n",
        "Find the chart in an example gallery of a Python data visualization library:\n",
        "- [Seaborn](http://seaborn.pydata.org/examples/index.html)\n",
        "- [Altair](https://altair-viz.github.io/gallery/index.html)\n",
        "- [Matplotlib](https://matplotlib.org/gallery.html)\n",
        "- [Pandas](https://pandas.pydata.org/pandas-docs/stable/visualization.html)\n",
        "\n",
        "Reproduce the chart. [Optionally, try the \"Ben Franklin Method.\"](https://docs.google.com/document/d/1ubOw9B3Hfip27hF2ZFnW3a3z9xAgrUDRReOEo-FHCVs/edit) If you want, experiment and make changes.\n",
        "\n",
        "Take notes. Consider sharing your work with your cohort!"
      ]
    },
    {
      "cell_type": "code",
      "metadata": {
        "id": "dRJkKftiy5BJ",
        "colab_type": "code",
        "colab": {}
      },
      "source": [
        "# More Work Here"
      ],
      "execution_count": 0,
      "outputs": []
    }
  ]
}